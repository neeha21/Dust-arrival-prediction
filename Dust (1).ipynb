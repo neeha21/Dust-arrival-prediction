{
 "cells": [
  {
   "cell_type": "code",
   "execution_count": 4,
   "id": "de380a27",
   "metadata": {
    "id": "de380a27"
   },
   "outputs": [],
   "source": [
    "import pandas as pd\n",
    "import matplotlib.pyplot as plt\n",
    "%matplotlib inline\n",
    "import numpy as np\n",
    "import seaborn as sns"
   ]
  },
  {
   "cell_type": "code",
   "execution_count": 6,
   "id": "1ed82c57",
   "metadata": {
    "id": "1ed82c57"
   },
   "outputs": [],
   "source": [
    "data = pd.read_csv('Data and Pivot Table dataset.csv')"
   ]
  },
  {
   "cell_type": "code",
   "execution_count": 8,
   "id": "dc41f00b",
   "metadata": {
    "id": "dc41f00b",
    "outputId": "fd476b09-d0f8-4f7e-eda0-ec9ac4eb858e"
   },
   "outputs": [
    {
     "data": {
      "text/html": [
       "<div>\n",
       "<style scoped>\n",
       "    .dataframe tbody tr th:only-of-type {\n",
       "        vertical-align: middle;\n",
       "    }\n",
       "\n",
       "    .dataframe tbody tr th {\n",
       "        vertical-align: top;\n",
       "    }\n",
       "\n",
       "    .dataframe thead th {\n",
       "        text-align: right;\n",
       "    }\n",
       "</style>\n",
       "<table border=\"1\" class=\"dataframe\">\n",
       "  <thead>\n",
       "    <tr style=\"text-align: right;\">\n",
       "      <th></th>\n",
       "      <th>Station</th>\n",
       "      <th>Year</th>\n",
       "      <th>Month</th>\n",
       "      <th>Day</th>\n",
       "      <th>Hour</th>\n",
       "      <th>Season</th>\n",
       "      <th>Visibility (m)</th>\n",
       "      <th>Visibility type</th>\n",
       "    </tr>\n",
       "  </thead>\n",
       "  <tbody>\n",
       "    <tr>\n",
       "      <th>0</th>\n",
       "      <td>411840</td>\n",
       "      <td>2010</td>\n",
       "      <td>1</td>\n",
       "      <td>1</td>\n",
       "      <td>0</td>\n",
       "      <td>Winter</td>\n",
       "      <td>9978.0</td>\n",
       "      <td>Blowing Dust</td>\n",
       "    </tr>\n",
       "    <tr>\n",
       "      <th>1</th>\n",
       "      <td>411840</td>\n",
       "      <td>2010</td>\n",
       "      <td>1</td>\n",
       "      <td>1</td>\n",
       "      <td>1</td>\n",
       "      <td>Winter</td>\n",
       "      <td>9978.0</td>\n",
       "      <td>Blowing Dust</td>\n",
       "    </tr>\n",
       "    <tr>\n",
       "      <th>2</th>\n",
       "      <td>411840</td>\n",
       "      <td>2010</td>\n",
       "      <td>1</td>\n",
       "      <td>1</td>\n",
       "      <td>2</td>\n",
       "      <td>Winter</td>\n",
       "      <td>9978.0</td>\n",
       "      <td>Blowing Dust</td>\n",
       "    </tr>\n",
       "    <tr>\n",
       "      <th>3</th>\n",
       "      <td>411840</td>\n",
       "      <td>2010</td>\n",
       "      <td>1</td>\n",
       "      <td>1</td>\n",
       "      <td>3</td>\n",
       "      <td>Winter</td>\n",
       "      <td>9978.0</td>\n",
       "      <td>Blowing Dust</td>\n",
       "    </tr>\n",
       "    <tr>\n",
       "      <th>4</th>\n",
       "      <td>411840</td>\n",
       "      <td>2010</td>\n",
       "      <td>1</td>\n",
       "      <td>1</td>\n",
       "      <td>4</td>\n",
       "      <td>Winter</td>\n",
       "      <td>9978.0</td>\n",
       "      <td>Blowing Dust</td>\n",
       "    </tr>\n",
       "  </tbody>\n",
       "</table>\n",
       "</div>"
      ],
      "text/plain": [
       "   Station  Year  Month  Day  Hour  Season  Visibility (m) Visibility type\n",
       "0   411840  2010      1    1     0  Winter          9978.0    Blowing Dust\n",
       "1   411840  2010      1    1     1  Winter          9978.0    Blowing Dust\n",
       "2   411840  2010      1    1     2  Winter          9978.0    Blowing Dust\n",
       "3   411840  2010      1    1     3  Winter          9978.0    Blowing Dust\n",
       "4   411840  2010      1    1     4  Winter          9978.0    Blowing Dust"
      ]
     },
     "execution_count": 8,
     "metadata": {},
     "output_type": "execute_result"
    }
   ],
   "source": [
    "data.head()"
   ]
  },
  {
   "cell_type": "code",
   "execution_count": 10,
   "id": "7dd5c337",
   "metadata": {
    "id": "7dd5c337",
    "outputId": "6db8ff04-edaf-4e7c-e015-be48db8f2575"
   },
   "outputs": [
    {
     "data": {
      "text/plain": [
       "(550092, 8)"
      ]
     },
     "execution_count": 10,
     "metadata": {},
     "output_type": "execute_result"
    }
   ],
   "source": [
    "data.shape"
   ]
  },
  {
   "cell_type": "code",
   "execution_count": 12,
   "id": "94c455cc",
   "metadata": {
    "id": "94c455cc",
    "outputId": "56d87aba-06b9-4592-a4b6-7c0437872b65"
   },
   "outputs": [
    {
     "name": "stdout",
     "output_type": "stream",
     "text": [
      "<class 'pandas.core.frame.DataFrame'>\n",
      "RangeIndex: 550092 entries, 0 to 550091\n",
      "Data columns (total 8 columns):\n",
      " #   Column           Non-Null Count   Dtype  \n",
      "---  ------           --------------   -----  \n",
      " 0   Station          550092 non-null  int64  \n",
      " 1   Year             550092 non-null  int64  \n",
      " 2   Month            550092 non-null  int64  \n",
      " 3   Day              550092 non-null  int64  \n",
      " 4   Hour             550092 non-null  int64  \n",
      " 5   Season           550092 non-null  object \n",
      " 6   Visibility (m)   412927 non-null  float64\n",
      " 7   Visibility type  396055 non-null  object \n",
      "dtypes: float64(1), int64(5), object(2)\n",
      "memory usage: 33.6+ MB\n"
     ]
    }
   ],
   "source": [
    "data.info()"
   ]
  },
  {
   "cell_type": "code",
   "execution_count": 14,
   "id": "f7b2f0fe",
   "metadata": {
    "id": "f7b2f0fe",
    "outputId": "37b41243-0e84-4fbd-bf80-a071d9ddf66a"
   },
   "outputs": [
    {
     "data": {
      "text/plain": [
       "Station                 0\n",
       "Year                    0\n",
       "Month                   0\n",
       "Day                     0\n",
       "Hour                    0\n",
       "Season                  0\n",
       "Visibility (m)     137165\n",
       "Visibility type    154037\n",
       "dtype: int64"
      ]
     },
     "execution_count": 14,
     "metadata": {},
     "output_type": "execute_result"
    }
   ],
   "source": [
    "data.isnull().sum()"
   ]
  },
  {
   "cell_type": "code",
   "execution_count": 16,
   "id": "6177a0bc",
   "metadata": {
    "id": "6177a0bc"
   },
   "outputs": [],
   "source": [
    "data=data.dropna(axis=0)"
   ]
  },
  {
   "cell_type": "code",
   "execution_count": 18,
   "id": "4914eaaa",
   "metadata": {
    "id": "4914eaaa",
    "outputId": "9d3966b7-207c-4e95-adae-7806663b2fa8"
   },
   "outputs": [
    {
     "data": {
      "text/plain": [
       "Station            0\n",
       "Year               0\n",
       "Month              0\n",
       "Day                0\n",
       "Hour               0\n",
       "Season             0\n",
       "Visibility (m)     0\n",
       "Visibility type    0\n",
       "dtype: int64"
      ]
     },
     "execution_count": 18,
     "metadata": {},
     "output_type": "execute_result"
    }
   ],
   "source": [
    "data.isnull().sum()"
   ]
  },
  {
   "cell_type": "code",
   "execution_count": 20,
   "id": "3d1b93d9",
   "metadata": {
    "id": "3d1b93d9",
    "outputId": "a5aa6912-1f31-4da9-e4cf-d7731e50a41f"
   },
   "outputs": [
    {
     "name": "stdout",
     "output_type": "stream",
     "text": [
      "<class 'pandas.core.frame.DataFrame'>\n",
      "Index: 396055 entries, 0 to 550091\n",
      "Data columns (total 8 columns):\n",
      " #   Column           Non-Null Count   Dtype  \n",
      "---  ------           --------------   -----  \n",
      " 0   Station          396055 non-null  int64  \n",
      " 1   Year             396055 non-null  int64  \n",
      " 2   Month            396055 non-null  int64  \n",
      " 3   Day              396055 non-null  int64  \n",
      " 4   Hour             396055 non-null  int64  \n",
      " 5   Season           396055 non-null  object \n",
      " 6   Visibility (m)   396055 non-null  float64\n",
      " 7   Visibility type  396055 non-null  object \n",
      "dtypes: float64(1), int64(5), object(2)\n",
      "memory usage: 27.2+ MB\n"
     ]
    }
   ],
   "source": [
    "data.info()"
   ]
  },
  {
   "cell_type": "code",
   "execution_count": 22,
   "id": "8ec00cc2",
   "metadata": {
    "id": "8ec00cc2",
    "outputId": "528b2b31-8695-4a25-c520-bc538e197006"
   },
   "outputs": [
    {
     "data": {
      "text/html": [
       "<div>\n",
       "<style scoped>\n",
       "    .dataframe tbody tr th:only-of-type {\n",
       "        vertical-align: middle;\n",
       "    }\n",
       "\n",
       "    .dataframe tbody tr th {\n",
       "        vertical-align: top;\n",
       "    }\n",
       "\n",
       "    .dataframe thead th {\n",
       "        text-align: right;\n",
       "    }\n",
       "</style>\n",
       "<table border=\"1\" class=\"dataframe\">\n",
       "  <thead>\n",
       "    <tr style=\"text-align: right;\">\n",
       "      <th></th>\n",
       "      <th>Station</th>\n",
       "      <th>Year</th>\n",
       "      <th>Month</th>\n",
       "      <th>Day</th>\n",
       "      <th>Hour</th>\n",
       "      <th>Season</th>\n",
       "      <th>Visibility (m)</th>\n",
       "      <th>Visibility type</th>\n",
       "    </tr>\n",
       "  </thead>\n",
       "  <tbody>\n",
       "    <tr>\n",
       "      <th>0</th>\n",
       "      <td>411840</td>\n",
       "      <td>2010</td>\n",
       "      <td>1</td>\n",
       "      <td>1</td>\n",
       "      <td>0</td>\n",
       "      <td>Winter</td>\n",
       "      <td>9978.0</td>\n",
       "      <td>Blowing Dust</td>\n",
       "    </tr>\n",
       "    <tr>\n",
       "      <th>1</th>\n",
       "      <td>411840</td>\n",
       "      <td>2010</td>\n",
       "      <td>1</td>\n",
       "      <td>1</td>\n",
       "      <td>1</td>\n",
       "      <td>Winter</td>\n",
       "      <td>9978.0</td>\n",
       "      <td>Blowing Dust</td>\n",
       "    </tr>\n",
       "    <tr>\n",
       "      <th>2</th>\n",
       "      <td>411840</td>\n",
       "      <td>2010</td>\n",
       "      <td>1</td>\n",
       "      <td>1</td>\n",
       "      <td>2</td>\n",
       "      <td>Winter</td>\n",
       "      <td>9978.0</td>\n",
       "      <td>Blowing Dust</td>\n",
       "    </tr>\n",
       "    <tr>\n",
       "      <th>3</th>\n",
       "      <td>411840</td>\n",
       "      <td>2010</td>\n",
       "      <td>1</td>\n",
       "      <td>1</td>\n",
       "      <td>3</td>\n",
       "      <td>Winter</td>\n",
       "      <td>9978.0</td>\n",
       "      <td>Blowing Dust</td>\n",
       "    </tr>\n",
       "    <tr>\n",
       "      <th>4</th>\n",
       "      <td>411840</td>\n",
       "      <td>2010</td>\n",
       "      <td>1</td>\n",
       "      <td>1</td>\n",
       "      <td>4</td>\n",
       "      <td>Winter</td>\n",
       "      <td>9978.0</td>\n",
       "      <td>Blowing Dust</td>\n",
       "    </tr>\n",
       "    <tr>\n",
       "      <th>...</th>\n",
       "      <td>...</td>\n",
       "      <td>...</td>\n",
       "      <td>...</td>\n",
       "      <td>...</td>\n",
       "      <td>...</td>\n",
       "      <td>...</td>\n",
       "      <td>...</td>\n",
       "      <td>...</td>\n",
       "    </tr>\n",
       "    <tr>\n",
       "      <th>550076</th>\n",
       "      <td>412180</td>\n",
       "      <td>2017</td>\n",
       "      <td>12</td>\n",
       "      <td>25</td>\n",
       "      <td>6</td>\n",
       "      <td>Winter</td>\n",
       "      <td>9978.0</td>\n",
       "      <td>Blowing Dust</td>\n",
       "    </tr>\n",
       "    <tr>\n",
       "      <th>550088</th>\n",
       "      <td>412180</td>\n",
       "      <td>2017</td>\n",
       "      <td>12</td>\n",
       "      <td>25</td>\n",
       "      <td>18</td>\n",
       "      <td>Winter</td>\n",
       "      <td>9978.0</td>\n",
       "      <td>Blowing Dust</td>\n",
       "    </tr>\n",
       "    <tr>\n",
       "      <th>550089</th>\n",
       "      <td>412180</td>\n",
       "      <td>2017</td>\n",
       "      <td>12</td>\n",
       "      <td>25</td>\n",
       "      <td>19</td>\n",
       "      <td>Winter</td>\n",
       "      <td>7081.0</td>\n",
       "      <td>Blowing Dust</td>\n",
       "    </tr>\n",
       "    <tr>\n",
       "      <th>550090</th>\n",
       "      <td>412180</td>\n",
       "      <td>2017</td>\n",
       "      <td>12</td>\n",
       "      <td>25</td>\n",
       "      <td>20</td>\n",
       "      <td>Winter</td>\n",
       "      <td>6115.0</td>\n",
       "      <td>Blowing Dust</td>\n",
       "    </tr>\n",
       "    <tr>\n",
       "      <th>550091</th>\n",
       "      <td>412180</td>\n",
       "      <td>2017</td>\n",
       "      <td>12</td>\n",
       "      <td>25</td>\n",
       "      <td>21</td>\n",
       "      <td>Winter</td>\n",
       "      <td>4023.0</td>\n",
       "      <td>Blowing Dust</td>\n",
       "    </tr>\n",
       "  </tbody>\n",
       "</table>\n",
       "<p>396055 rows × 8 columns</p>\n",
       "</div>"
      ],
      "text/plain": [
       "        Station  Year  Month  Day  Hour  Season  Visibility (m)  \\\n",
       "0        411840  2010      1    1     0  Winter          9978.0   \n",
       "1        411840  2010      1    1     1  Winter          9978.0   \n",
       "2        411840  2010      1    1     2  Winter          9978.0   \n",
       "3        411840  2010      1    1     3  Winter          9978.0   \n",
       "4        411840  2010      1    1     4  Winter          9978.0   \n",
       "...         ...   ...    ...  ...   ...     ...             ...   \n",
       "550076   412180  2017     12   25     6  Winter          9978.0   \n",
       "550088   412180  2017     12   25    18  Winter          9978.0   \n",
       "550089   412180  2017     12   25    19  Winter          7081.0   \n",
       "550090   412180  2017     12   25    20  Winter          6115.0   \n",
       "550091   412180  2017     12   25    21  Winter          4023.0   \n",
       "\n",
       "       Visibility type  \n",
       "0         Blowing Dust  \n",
       "1         Blowing Dust  \n",
       "2         Blowing Dust  \n",
       "3         Blowing Dust  \n",
       "4         Blowing Dust  \n",
       "...                ...  \n",
       "550076    Blowing Dust  \n",
       "550088    Blowing Dust  \n",
       "550089    Blowing Dust  \n",
       "550090    Blowing Dust  \n",
       "550091    Blowing Dust  \n",
       "\n",
       "[396055 rows x 8 columns]"
      ]
     },
     "execution_count": 22,
     "metadata": {},
     "output_type": "execute_result"
    }
   ],
   "source": [
    "data"
   ]
  },
  {
   "cell_type": "code",
   "execution_count": 24,
   "id": "01a46aa2",
   "metadata": {
    "id": "01a46aa2"
   },
   "outputs": [],
   "source": [
    "from sklearn import preprocessing\n",
    "\n",
    "encoder = preprocessing.LabelEncoder()\n",
    "\n",
    "for i in data.columns:\n",
    "    if isinstance(data[i][0], str):\n",
    "            data[i] = encoder.fit_transform(data[i])"
   ]
  },
  {
   "cell_type": "code",
   "execution_count": 26,
   "id": "d7dcb517",
   "metadata": {
    "id": "d7dcb517",
    "outputId": "e22cb68e-ec69-46d6-cb27-56c439235585"
   },
   "outputs": [
    {
     "data": {
      "text/html": [
       "<div>\n",
       "<style scoped>\n",
       "    .dataframe tbody tr th:only-of-type {\n",
       "        vertical-align: middle;\n",
       "    }\n",
       "\n",
       "    .dataframe tbody tr th {\n",
       "        vertical-align: top;\n",
       "    }\n",
       "\n",
       "    .dataframe thead th {\n",
       "        text-align: right;\n",
       "    }\n",
       "</style>\n",
       "<table border=\"1\" class=\"dataframe\">\n",
       "  <thead>\n",
       "    <tr style=\"text-align: right;\">\n",
       "      <th></th>\n",
       "      <th>Station</th>\n",
       "      <th>Year</th>\n",
       "      <th>Month</th>\n",
       "      <th>Day</th>\n",
       "      <th>Hour</th>\n",
       "      <th>Season</th>\n",
       "      <th>Visibility (m)</th>\n",
       "      <th>Visibility type</th>\n",
       "    </tr>\n",
       "  </thead>\n",
       "  <tbody>\n",
       "    <tr>\n",
       "      <th>0</th>\n",
       "      <td>411840</td>\n",
       "      <td>2010</td>\n",
       "      <td>1</td>\n",
       "      <td>1</td>\n",
       "      <td>0</td>\n",
       "      <td>3</td>\n",
       "      <td>9978.0</td>\n",
       "      <td>0</td>\n",
       "    </tr>\n",
       "    <tr>\n",
       "      <th>1</th>\n",
       "      <td>411840</td>\n",
       "      <td>2010</td>\n",
       "      <td>1</td>\n",
       "      <td>1</td>\n",
       "      <td>1</td>\n",
       "      <td>3</td>\n",
       "      <td>9978.0</td>\n",
       "      <td>0</td>\n",
       "    </tr>\n",
       "    <tr>\n",
       "      <th>2</th>\n",
       "      <td>411840</td>\n",
       "      <td>2010</td>\n",
       "      <td>1</td>\n",
       "      <td>1</td>\n",
       "      <td>2</td>\n",
       "      <td>3</td>\n",
       "      <td>9978.0</td>\n",
       "      <td>0</td>\n",
       "    </tr>\n",
       "    <tr>\n",
       "      <th>3</th>\n",
       "      <td>411840</td>\n",
       "      <td>2010</td>\n",
       "      <td>1</td>\n",
       "      <td>1</td>\n",
       "      <td>3</td>\n",
       "      <td>3</td>\n",
       "      <td>9978.0</td>\n",
       "      <td>0</td>\n",
       "    </tr>\n",
       "    <tr>\n",
       "      <th>4</th>\n",
       "      <td>411840</td>\n",
       "      <td>2010</td>\n",
       "      <td>1</td>\n",
       "      <td>1</td>\n",
       "      <td>4</td>\n",
       "      <td>3</td>\n",
       "      <td>9978.0</td>\n",
       "      <td>0</td>\n",
       "    </tr>\n",
       "  </tbody>\n",
       "</table>\n",
       "</div>"
      ],
      "text/plain": [
       "   Station  Year  Month  Day  Hour  Season  Visibility (m)  Visibility type\n",
       "0   411840  2010      1    1     0       3          9978.0                0\n",
       "1   411840  2010      1    1     1       3          9978.0                0\n",
       "2   411840  2010      1    1     2       3          9978.0                0\n",
       "3   411840  2010      1    1     3       3          9978.0                0\n",
       "4   411840  2010      1    1     4       3          9978.0                0"
      ]
     },
     "execution_count": 26,
     "metadata": {},
     "output_type": "execute_result"
    }
   ],
   "source": [
    "data.head()"
   ]
  },
  {
   "cell_type": "code",
   "execution_count": 28,
   "id": "b4f32fd3",
   "metadata": {
    "id": "b4f32fd3",
    "outputId": "ddfb44c9-5878-475b-ea5a-cd5305fc2e59"
   },
   "outputs": [
    {
     "name": "stderr",
     "output_type": "stream",
     "text": [
      "C:\\Users\\neeha\\AppData\\Local\\Temp\\ipykernel_15824\\3735595739.py:1: FutureWarning: \n",
      "\n",
      "Passing `palette` without assigning `hue` is deprecated and will be removed in v0.14.0. Assign the `x` variable to `hue` and set `legend=False` for the same effect.\n",
      "\n",
      "  sns.countplot(x='Hour',data=data,palette='magma')\n"
     ]
    },
    {
     "data": {
      "text/plain": [
       "<Axes: xlabel='Hour', ylabel='count'>"
      ]
     },
     "execution_count": 28,
     "metadata": {},
     "output_type": "execute_result"
    },
    {
     "data": {
      "image/png": "[encoded data removed]",
      "text/plain": [
       "<Figure size 640x480 with 1 Axes>"
      ]
     },
     "metadata": {},
     "output_type": "display_data"
    }
   ],
   "source": [
    "sns.countplot(x='Hour',data=data,palette='magma')"
   ]
  },
  {
   "cell_type": "code",
   "execution_count": 29,
   "id": "eb553581",
   "metadata": {
    "id": "eb553581",
    "outputId": "e318978e-d78c-4d9d-bec0-892d002c1da4"
   },
   "outputs": [
    {
     "data": {
      "text/plain": [
       "<Axes: xlabel='Year', ylabel='count'>"
      ]
     },
     "execution_count": 29,
     "metadata": {},
     "output_type": "execute_result"
    },
    {
     "data": {
      "image/png": "[encoded data removed]",
      "text/plain": [
       "<Figure size 640x480 with 1 Axes>"
      ]
     },
     "metadata": {},
     "output_type": "display_data"
    }
   ],
   "source": [
    "sns.countplot(x='Year',data=data)"
   ]
  },
  {
   "cell_type": "code",
   "execution_count": 31,
   "id": "bf4baf94",
   "metadata": {
    "id": "bf4baf94"
   },
   "outputs": [],
   "source": [
    "data.drop(['Visibility type'], axis = 1,inplace=True)"
   ]
  },
  {
   "cell_type": "code",
   "execution_count": 34,
   "id": "170cfebc",
   "metadata": {
    "id": "170cfebc",
    "outputId": "5b85fe6b-6bd7-4019-d630-384ac13581f0"
   },
   "outputs": [
    {
     "data": {
      "text/html": [
       "<div>\n",
       "<style scoped>\n",
       "    .dataframe tbody tr th:only-of-type {\n",
       "        vertical-align: middle;\n",
       "    }\n",
       "\n",
       "    .dataframe tbody tr th {\n",
       "        vertical-align: top;\n",
       "    }\n",
       "\n",
       "    .dataframe thead th {\n",
       "        text-align: right;\n",
       "    }\n",
       "</style>\n",
       "<table border=\"1\" class=\"dataframe\">\n",
       "  <thead>\n",
       "    <tr style=\"text-align: right;\">\n",
       "      <th></th>\n",
       "      <th>Station</th>\n",
       "      <th>Year</th>\n",
       "      <th>Month</th>\n",
       "      <th>Day</th>\n",
       "      <th>Hour</th>\n",
       "      <th>Season</th>\n",
       "      <th>Visibility (m)</th>\n",
       "    </tr>\n",
       "  </thead>\n",
       "  <tbody>\n",
       "    <tr>\n",
       "      <th>0</th>\n",
       "      <td>411840</td>\n",
       "      <td>2010</td>\n",
       "      <td>1</td>\n",
       "      <td>1</td>\n",
       "      <td>0</td>\n",
       "      <td>3</td>\n",
       "      <td>9978.0</td>\n",
       "    </tr>\n",
       "    <tr>\n",
       "      <th>1</th>\n",
       "      <td>411840</td>\n",
       "      <td>2010</td>\n",
       "      <td>1</td>\n",
       "      <td>1</td>\n",
       "      <td>1</td>\n",
       "      <td>3</td>\n",
       "      <td>9978.0</td>\n",
       "    </tr>\n",
       "    <tr>\n",
       "      <th>2</th>\n",
       "      <td>411840</td>\n",
       "      <td>2010</td>\n",
       "      <td>1</td>\n",
       "      <td>1</td>\n",
       "      <td>2</td>\n",
       "      <td>3</td>\n",
       "      <td>9978.0</td>\n",
       "    </tr>\n",
       "    <tr>\n",
       "      <th>3</th>\n",
       "      <td>411840</td>\n",
       "      <td>2010</td>\n",
       "      <td>1</td>\n",
       "      <td>1</td>\n",
       "      <td>3</td>\n",
       "      <td>3</td>\n",
       "      <td>9978.0</td>\n",
       "    </tr>\n",
       "    <tr>\n",
       "      <th>4</th>\n",
       "      <td>411840</td>\n",
       "      <td>2010</td>\n",
       "      <td>1</td>\n",
       "      <td>1</td>\n",
       "      <td>4</td>\n",
       "      <td>3</td>\n",
       "      <td>9978.0</td>\n",
       "    </tr>\n",
       "  </tbody>\n",
       "</table>\n",
       "</div>"
      ],
      "text/plain": [
       "   Station  Year  Month  Day  Hour  Season  Visibility (m)\n",
       "0   411840  2010      1    1     0       3          9978.0\n",
       "1   411840  2010      1    1     1       3          9978.0\n",
       "2   411840  2010      1    1     2       3          9978.0\n",
       "3   411840  2010      1    1     3       3          9978.0\n",
       "4   411840  2010      1    1     4       3          9978.0"
      ]
     },
     "execution_count": 34,
     "metadata": {},
     "output_type": "execute_result"
    }
   ],
   "source": [
    "data.head()"
   ]
  },
  {
   "cell_type": "code",
   "execution_count": 36,
   "id": "97bfeffb",
   "metadata": {
    "id": "97bfeffb"
   },
   "outputs": [],
   "source": [
    "X = data[['Station','Year','Month','Day','Hour','Season' ]].values\n",
    "y = data['Visibility (m)'].values\n"
   ]
  },
  {
   "cell_type": "code",
   "execution_count": 38,
   "id": "fbc8c242",
   "metadata": {
    "id": "fbc8c242"
   },
   "outputs": [],
   "source": [
    "from sklearn.model_selection import train_test_split\n",
    "X_train, X_test, y_train, y_test = train_test_split(\n",
    "    X, y, test_size=0.4)"
   ]
  },
  {
   "cell_type": "code",
   "execution_count": 40,
   "id": "15f8092f",
   "metadata": {
    "id": "15f8092f"
   },
   "outputs": [],
   "source": [
    "from sklearn.naive_bayes import MultinomialNB"
   ]
  },
  {
   "cell_type": "code",
   "execution_count": 42,
   "id": "0d530b91",
   "metadata": {
    "id": "0d530b91",
    "outputId": "6d545cfb-57a4-4bec-b5ce-2dc85fa02f0a"
   },
   "outputs": [
    {
     "name": "stdout",
     "output_type": "stream",
     "text": [
      "MultinomialNB()\n"
     ]
    }
   ],
   "source": [
    "MultiNB = MultinomialNB()\n",
    "MultiNB.fit(X_train,y_train)\n",
    "print(MultiNB)\n",
    "y_pred = MultiNB.predict(X_test)"
   ]
  },
  {
   "cell_type": "code",
   "execution_count": 44,
   "id": "8795b729",
   "metadata": {
    "id": "8795b729",
    "outputId": "ae0cbb36-4bfe-40a1-c679-e0467d6aa397"
   },
   "outputs": [
    {
     "name": "stdout",
     "output_type": "stream",
     "text": [
      "Accuracy Score 0.4855386246859653\n"
     ]
    }
   ],
   "source": [
    "from sklearn.metrics import classification_report,confusion_matrix,precision_score,recall_score,f1_score,accuracy_score\n",
    "#print(classification_report(y_test,y_pred))\n",
    "print('Accuracy Score',accuracy_score(y_test,y_pred))\n",
    "\n"
   ]
  },
  {
   "cell_type": "code",
   "execution_count": 46,
   "id": "1d3d8327",
   "metadata": {
    "id": "1d3d8327",
    "outputId": "0334dbd8-e0ea-4c92-bb6b-d088e0a99f15"
   },
   "outputs": [
    {
     "name": "stdout",
     "output_type": "stream",
     "text": [
      "Accuracy for RandomForest:\t0.6572130133441062\n"
     ]
    }
   ],
   "source": [
    "from sklearn.ensemble import RandomForestClassifier\n",
    "model1 = RandomForestClassifier(n_estimators=10, max_features=None)\n",
    "model1.fit(X_train,y_train)\n",
    "y_pred1 = model1.predict(X_test)\n",
    "accuracy1 = accuracy_score(y_test,y_pred1)\n",
    "print(\"Accuracy for RandomForest:\\t\"+str(accuracy1))"
   ]
  },
  {
   "cell_type": "code",
   "execution_count": 47,
   "id": "47bf8a6a-c612-4341-8747-ca32ad8088d6",
   "metadata": {},
   "outputs": [],
   "source": [
    "df1 = pd.DataFrame({'Actual':y_test,'MultiNB':y_pred,\n",
    "                  'model1':y_pred1})"
   ]
  },
  {
   "cell_type": "code",
   "execution_count": 48,
   "id": "84c07761-8a33-4cc1-a694-65efb76f67d5",
   "metadata": {},
   "outputs": [
    {
     "data": {
      "text/html": [
       "<div>\n",
       "<style scoped>\n",
       "    .dataframe tbody tr th:only-of-type {\n",
       "        vertical-align: middle;\n",
       "    }\n",
       "\n",
       "    .dataframe tbody tr th {\n",
       "        vertical-align: top;\n",
       "    }\n",
       "\n",
       "    .dataframe thead th {\n",
       "        text-align: right;\n",
       "    }\n",
       "</style>\n",
       "<table border=\"1\" class=\"dataframe\">\n",
       "  <thead>\n",
       "    <tr style=\"text-align: right;\">\n",
       "      <th></th>\n",
       "      <th>Actual</th>\n",
       "      <th>MultiNB</th>\n",
       "      <th>model1</th>\n",
       "    </tr>\n",
       "  </thead>\n",
       "  <tbody>\n",
       "    <tr>\n",
       "      <th>0</th>\n",
       "      <td>6115.0</td>\n",
       "      <td>9978.0</td>\n",
       "      <td>4023.0</td>\n",
       "    </tr>\n",
       "    <tr>\n",
       "      <th>1</th>\n",
       "      <td>9978.0</td>\n",
       "      <td>9978.0</td>\n",
       "      <td>9978.0</td>\n",
       "    </tr>\n",
       "    <tr>\n",
       "      <th>2</th>\n",
       "      <td>4506.0</td>\n",
       "      <td>9978.0</td>\n",
       "      <td>4506.0</td>\n",
       "    </tr>\n",
       "    <tr>\n",
       "      <th>3</th>\n",
       "      <td>7081.0</td>\n",
       "      <td>9978.0</td>\n",
       "      <td>7081.0</td>\n",
       "    </tr>\n",
       "    <tr>\n",
       "      <th>4</th>\n",
       "      <td>9012.0</td>\n",
       "      <td>9978.0</td>\n",
       "      <td>9012.0</td>\n",
       "    </tr>\n",
       "    <tr>\n",
       "      <th>...</th>\n",
       "      <td>...</td>\n",
       "      <td>...</td>\n",
       "      <td>...</td>\n",
       "    </tr>\n",
       "    <tr>\n",
       "      <th>158417</th>\n",
       "      <td>9978.0</td>\n",
       "      <td>9978.0</td>\n",
       "      <td>9978.0</td>\n",
       "    </tr>\n",
       "    <tr>\n",
       "      <th>158418</th>\n",
       "      <td>4989.0</td>\n",
       "      <td>9978.0</td>\n",
       "      <td>4989.0</td>\n",
       "    </tr>\n",
       "    <tr>\n",
       "      <th>158419</th>\n",
       "      <td>9978.0</td>\n",
       "      <td>9978.0</td>\n",
       "      <td>9978.0</td>\n",
       "    </tr>\n",
       "    <tr>\n",
       "      <th>158420</th>\n",
       "      <td>7081.0</td>\n",
       "      <td>9978.0</td>\n",
       "      <td>7081.0</td>\n",
       "    </tr>\n",
       "    <tr>\n",
       "      <th>158421</th>\n",
       "      <td>9978.0</td>\n",
       "      <td>9978.0</td>\n",
       "      <td>9978.0</td>\n",
       "    </tr>\n",
       "  </tbody>\n",
       "</table>\n",
       "<p>158422 rows × 3 columns</p>\n",
       "</div>"
      ],
      "text/plain": [
       "        Actual  MultiNB  model1\n",
       "0       6115.0   9978.0  4023.0\n",
       "1       9978.0   9978.0  9978.0\n",
       "2       4506.0   9978.0  4506.0\n",
       "3       7081.0   9978.0  7081.0\n",
       "4       9012.0   9978.0  9012.0\n",
       "...        ...      ...     ...\n",
       "158417  9978.0   9978.0  9978.0\n",
       "158418  4989.0   9978.0  4989.0\n",
       "158419  9978.0   9978.0  9978.0\n",
       "158420  7081.0   9978.0  7081.0\n",
       "158421  9978.0   9978.0  9978.0\n",
       "\n",
       "[158422 rows x 3 columns]"
      ]
     },
     "execution_count": 48,
     "metadata": {},
     "output_type": "execute_result"
    }
   ],
   "source": [
    "df1"
   ]
  },
  {
   "cell_type": "code",
   "execution_count": 49,
   "id": "fadf5c14-e2da-46ab-a601-12723f5cb010",
   "metadata": {},
   "outputs": [],
   "source": [
    "import matplotlib.pyplot as plt"
   ]
  },
  {
   "cell_type": "code",
   "execution_count": 54,
   "id": "51e0eaf3-c102-401e-bdb3-b770288557cd",
   "metadata": {},
   "outputs": [
    {
     "data": {
      "text/plain": [
       "<matplotlib.legend.Legend at 0x2287620ed20>"
      ]
     },
     "execution_count": 54,
     "metadata": {},
     "output_type": "execute_result"
    },
    {
     "data": {
      "image/png": "[encoded data removed]",
      "text/plain": [
       "<Figure size 640x480 with 2 Axes>"
      ]
     },
     "metadata": {},
     "output_type": "display_data"
    }
   ],
   "source": [
    "plt.subplot(221)\n",
    "plt.plot(df1['Actual'].iloc[0:11],label='Actual')\n",
    "plt.plot(df1['MultiNB'].iloc[0:11],label=\"MultiNB\")\n",
    "plt.legend()\n",
    "\n",
    "plt.subplot(222)\n",
    "plt.plot(df1['Actual'].iloc[0:11],label='Actual')\n",
    "plt.plot(df1['model1'].iloc[0:11],label=\"model1\")\n",
    "plt.legend()"
   ]
  },
  {
   "cell_type": "code",
   "execution_count": 56,
   "id": "0f4cece0-9ee5-45c3-99af-075d5359e06f",
   "metadata": {},
   "outputs": [],
   "source": [
    "from sklearn import metrics"
   ]
  },
  {
   "cell_type": "code",
   "execution_count": 58,
   "id": "aac3a429-9b7a-44f0-9fee-e0cb75677dac",
   "metadata": {},
   "outputs": [],
   "source": [
    "score1 = metrics.r2_score(y_test,y_pred)\n",
    "score2 = metrics.r2_score(y_test,y_pred1)"
   ]
  },
  {
   "cell_type": "code",
   "execution_count": 60,
   "id": "2479557b-ca35-4e5f-9b58-ae9a5b408b06",
   "metadata": {},
   "outputs": [
    {
     "name": "stdout",
     "output_type": "stream",
     "text": [
      "-1.2503076911124191 0.4601604326830293\n"
     ]
    }
   ],
   "source": [
    "print(score1,score2)"
   ]
  },
  {
   "cell_type": "code",
   "execution_count": 62,
   "id": "866ebcd9-e52d-4a34-8db5-8bdf8245fdf4",
   "metadata": {},
   "outputs": [],
   "source": [
    "s1 = metrics.mean_absolute_error(y_test,y_pred)\n",
    "s2 = metrics.mean_absolute_error(y_test,y_pred1)"
   ]
  },
  {
   "cell_type": "code",
   "execution_count": 64,
   "id": "98271a29-82d5-4655-85fd-2be795acfcd6",
   "metadata": {},
   "outputs": [
    {
     "name": "stdout",
     "output_type": "stream",
     "text": [
      "1885.8974321748242 731.7564984661221\n"
     ]
    }
   ],
   "source": [
    "print(s1,s2)"
   ]
  },
  {
   "cell_type": "code",
   "execution_count": 66,
   "id": "76c2957d-ce98-4568-ae15-d659e8984cd9",
   "metadata": {},
   "outputs": [],
   "source": [
    "df = pd.DataFrame({\n",
    "    'Station': 412180 ,\n",
    "    'Year': 2024,\n",
    "    'Month' : 9,\n",
    "    'Day' : 13,\n",
    "        'Hour' : 5,\n",
    "        'Season' : ['Winter'],\n",
    "})"
   ]
  },
  {
   "cell_type": "code",
   "execution_count": 68,
   "id": "25548182-0d48-4c35-8a1f-085bf984cdfe",
   "metadata": {},
   "outputs": [
    {
     "data": {
      "text/html": [
       "<div>\n",
       "<style scoped>\n",
       "    .dataframe tbody tr th:only-of-type {\n",
       "        vertical-align: middle;\n",
       "    }\n",
       "\n",
       "    .dataframe tbody tr th {\n",
       "        vertical-align: top;\n",
       "    }\n",
       "\n",
       "    .dataframe thead th {\n",
       "        text-align: right;\n",
       "    }\n",
       "</style>\n",
       "<table border=\"1\" class=\"dataframe\">\n",
       "  <thead>\n",
       "    <tr style=\"text-align: right;\">\n",
       "      <th></th>\n",
       "      <th>Station</th>\n",
       "      <th>Year</th>\n",
       "      <th>Month</th>\n",
       "      <th>Day</th>\n",
       "      <th>Hour</th>\n",
       "      <th>Season</th>\n",
       "    </tr>\n",
       "  </thead>\n",
       "  <tbody>\n",
       "    <tr>\n",
       "      <th>0</th>\n",
       "      <td>412180</td>\n",
       "      <td>2024</td>\n",
       "      <td>9</td>\n",
       "      <td>13</td>\n",
       "      <td>5</td>\n",
       "      <td>Winter</td>\n",
       "    </tr>\n",
       "  </tbody>\n",
       "</table>\n",
       "</div>"
      ],
      "text/plain": [
       "   Station  Year  Month  Day  Hour  Season\n",
       "0   412180  2024      9   13     5  Winter"
      ]
     },
     "execution_count": 68,
     "metadata": {},
     "output_type": "execute_result"
    }
   ],
   "source": [
    "df"
   ]
  },
  {
   "cell_type": "code",
   "execution_count": 70,
   "id": "5ce4ee9e-8436-4114-b3c6-0682e5e20df6",
   "metadata": {},
   "outputs": [],
   "source": [
    "from sklearn.preprocessing import LabelEncoder\n",
    "\n",
    "le = LabelEncoder()\n",
    "df['Season'] = le.fit_transform(df['Season'])"
   ]
  },
  {
   "cell_type": "code",
   "execution_count": 72,
   "id": "b0d4dbb0-3a4f-44e5-b5ec-f94245e5e86e",
   "metadata": {},
   "outputs": [
    {
     "name": "stdout",
     "output_type": "stream",
     "text": [
      "[9012.]\n"
     ]
    },
    {
     "name": "stderr",
     "output_type": "stream",
     "text": [
      "C:\\Users\\neeha\\anaconda3\\Lib\\site-packages\\sklearn\\base.py:486: UserWarning: X has feature names, but RandomForestClassifier was fitted without feature names\n",
      "  warnings.warn(\n"
     ]
    }
   ],
   "source": [
    "new_pred = model1.predict(df)\n",
    "print(new_pred)"
   ]
  },
  {
   "cell_type": "code",
   "execution_count": 74,
   "id": "d12ed280-cbaf-4f6d-8967-cb5108a79e14",
   "metadata": {},
   "outputs": [],
   "source": [
    "import joblib"
   ]
  },
  {
   "cell_type": "code",
   "execution_count": 76,
   "id": "89c5ccb3-3995-4818-9e05-d55685e96965",
   "metadata": {},
   "outputs": [
    {
     "data": {
      "text/plain": [
       "['model_joblib_model1']"
      ]
     },
     "execution_count": 76,
     "metadata": {},
     "output_type": "execute_result"
    }
   ],
   "source": [
    "joblib.dump(model1,'model_joblib_model1')"
   ]
  },
  {
   "cell_type": "code",
   "execution_count": 77,
   "id": "cd039ace-6ebe-4ab0-9b84-0ae6acf38eeb",
   "metadata": {},
   "outputs": [],
   "source": [
    "model = joblib.load('model_joblib_model1')"
   ]
  },
  {
   "cell_type": "code",
   "execution_count": 79,
   "id": "2c18736d-875e-4375-b047-c70e81228edf",
   "metadata": {},
   "outputs": [
    {
     "name": "stderr",
     "output_type": "stream",
     "text": [
      "C:\\Users\\neeha\\anaconda3\\Lib\\site-packages\\sklearn\\base.py:486: UserWarning: X has feature names, but RandomForestClassifier was fitted without feature names\n",
      "  warnings.warn(\n"
     ]
    },
    {
     "data": {
      "text/plain": [
       "array([9012.])"
      ]
     },
     "execution_count": 79,
     "metadata": {},
     "output_type": "execute_result"
    }
   ],
   "source": [
    "model.predict(df)"
   ]
  },
  {
   "cell_type": "code",
   "execution_count": 82,
   "id": "5b052e7f-0c80-4653-9963-efa9d2b584bf",
   "metadata": {},
   "outputs": [],
   "source": [
    "from tkinter import *"
   ]
  },
  {
   "cell_type": "code",
   "execution_count": 84,
   "id": "cde03a7e-3d2f-4731-88fb-0ce9862c33e9",
   "metadata": {},
   "outputs": [],
   "source": [
    "import joblib"
   ]
  },
  {
   "cell_type": "code",
   "execution_count": null,
   "id": "c4fabf48-f7d3-4248-b4d6-6ce306947563",
   "metadata": {},
   "outputs": [],
   "source": [
    "import tkinter as tk\n",
    "from joblib import load\n",
    "import numpy as np\n",
    "from sklearn.preprocessing import LabelEncoder\n",
    "import pandas as pd\n",
    "\n",
    "df = pd.read_csv('Data and Pivot Table dataset.csv')\n",
    "\n",
    "\n",
    "def show_entry():\n",
    "    \n",
    "    le = LabelEncoder()\n",
    "    df['Season'] = le.fit_transform(df['Season'])\n",
    "    \n",
    "    p1 = float(e1.get())\n",
    "    p2 = float(e2.get())\n",
    "    p3 = float(e3.get())\n",
    "    p4 = float(e4.get())\n",
    "    p5 = float(e5.get())\n",
    "    p6 = e6.get()\n",
    "\n",
    "\n",
    "    p6 = le.transform([p6])[0]\n",
    "\n",
    "    model = load('model_joblib_model1')\n",
    "    result = model.predict([[p1, p2, p3, p4, p5, p6]])\n",
    "    \n",
    "    result = max(0, result)\n",
    "    if result[0] > 9000:\n",
    "        Label(master, text=\"Chance of Dust Storm!\").grid(row=8)\n",
    "    else:\n",
    "        Label(master, text=\"No Dust Storm predicted\").grid(row=8)\n",
    "\n",
    "    Label(master, text=\"Dust arrival\").grid(row=6)\n",
    "    Label(master, text=str(result[0])).grid(row=7)\n",
    "\n",
    "master = tk.Tk()\n",
    "master.title(\"Dust Arrival Prediction\")\n",
    "\n",
    "label = tk.Label(master, text=\"Dust Arrival Prediction \", bg=\"black\", fg=\"white\").grid(row=0, columnspan=2)\n",
    "\n",
    "tk.Label(master, text=\"Enter Station \").grid(row=1)\n",
    "tk.Label(master, text=\"Enter Year\").grid(row=2)\n",
    "tk.Label(master, text=\"Enter Month\").grid(row=3)\n",
    "tk.Label(master, text=\"Enter Day\").grid(row=4)\n",
    "tk.Label(master, text=\"Enter Hour\").grid(row=5)\n",
    "tk.Label(master, text=\"Enter Season\").grid(row=6)\n",
    "\n",
    "e1 = tk.Entry(master)\n",
    "e2 = tk.Entry(master)\n",
    "e3 = tk.Entry(master)\n",
    "e4 = tk.Entry(master)\n",
    "e5 = tk.Entry(master)\n",
    "e6 = tk.Entry(master)\n",
    "\n",
    "\n",
    "e1.grid(row=1, column=1)\n",
    "e2.grid(row=2, column=1)\n",
    "e3.grid(row=3, column=1)\n",
    "e4.grid(row=4, column=1)\n",
    "e5.grid(row=5, column=1)\n",
    "e6.grid(row=6, column=1)\n",
    "\n",
    "tk.Button(master, text=\"predict\", command=show_entry).grid()\n",
    "\n",
    "master.mainloop()"
   ]
  },
  {
   "cell_type": "code",
   "execution_count": null,
   "id": "5014f40c-4e36-4e71-8c2d-eacb9e31d466",
   "metadata": {},
   "outputs": [],
   "source": []
  }
 ],
 "metadata": {
  "colab": {
   "provenance": []
  },
  "kernelspec": {
   "display_name": "Python 3 (ipykernel)",
   "language": "python",
   "name": "python3"
  },
  "language_info": {
   "codemirror_mode": {
    "name": "ipython",
    "version": 3
   },
   "file_extension": ".py",
   "mimetype": "text/x-python",
   "name": "python",
   "nbconvert_exporter": "python",
   "pygments_lexer": "ipython3",
   "version": "3.12.4"
  }
 },
 "nbformat": 4,
 "nbformat_minor": 5
}
